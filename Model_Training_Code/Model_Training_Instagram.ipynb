{
  "cells": [
    {
      "cell_type": "markdown",
      "metadata": {},
      "source": [
        "### Model Training"
      ]
    },
    {
      "cell_type": "code",
      "execution_count": null,
      "metadata": {
        "_cell_guid": "b1076dfc-b9ad-4769-8c92-a6c4dae69d19",
        "_uuid": "8f2839f25d086af736a60e9eeb907d3b93b6e0e5",
        "execution": {
          "iopub.execute_input": "2024-05-04T09:24:08.022697Z",
          "iopub.status.busy": "2024-05-04T09:24:08.022304Z",
          "iopub.status.idle": "2024-05-04T09:24:08.039993Z",
          "shell.execute_reply": "2024-05-04T09:24:08.038844Z",
          "shell.execute_reply.started": "2024-05-04T09:24:08.02267Z"
        },
        "id": "s4MRuggaMN-d",
        "trusted": true
      },
      "outputs": [],
      "source": [
        "import numpy as np \n",
        "import pandas as pd \n",
        "\n",
        "import os\n",
        "for dirname, _, filenames in os.walk('/kaggle/input'):\n",
        "    for filename in filenames:\n",
        "        print(os.path.join(dirname, filename))\n",
        "\n",
        "# You can write up to 20GB to the current directory (/kaggle/working/) that gets preserved as output when you create a version using \"Save & Run All\"\n",
        "# You can also write temporary files to /kaggle/temp/, but they won't be saved outside of the current session"
      ]
    },
    {
      "cell_type": "code",
      "execution_count": null,
      "metadata": {
        "execution": {
          "iopub.execute_input": "2024-05-04T09:24:14.251908Z",
          "iopub.status.busy": "2024-05-04T09:24:14.25154Z",
          "iopub.status.idle": "2024-05-04T09:24:14.256121Z",
          "shell.execute_reply": "2024-05-04T09:24:14.25518Z",
          "shell.execute_reply.started": "2024-05-04T09:24:14.251881Z"
        },
        "id": "cVgn9fhXMN-j",
        "trusted": true
      },
      "outputs": [],
      "source": [
        "import pandas as pd\n",
        "import seaborn as sns\n",
        "import matplotlib.pyplot as plt"
      ]
    },
    {
      "cell_type": "code",
      "execution_count": null,
      "metadata": {
        "execution": {
          "iopub.execute_input": "2024-05-04T09:24:17.756255Z",
          "iopub.status.busy": "2024-05-04T09:24:17.755839Z",
          "iopub.status.idle": "2024-05-04T09:24:18.383814Z",
          "shell.execute_reply": "2024-05-04T09:24:18.382608Z",
          "shell.execute_reply.started": "2024-05-04T09:24:17.756222Z"
        },
        "id": "4HnlmF0-MN-k",
        "trusted": true
      },
      "outputs": [],
      "source": [
        "import pandas as pd\n",
        "\n",
        "filepaths = [\n",
        "    '/kaggle/input/influencer/bda_data1.csv',\n",
        " ]\n",
        "\n",
        "dfs = []\n",
        "for filepath in filepaths:\n",
        "    dfs.append(pd.read_csv(filepath))\n",
        "\n",
        "df = pd.concat(dfs)\n",
        "\n",
        "print(\"Combined dataset:\")\n",
        "print(df.head())"
      ]
    },
    {
      "cell_type": "code",
      "execution_count": null,
      "metadata": {
        "execution": {
          "iopub.execute_input": "2024-05-04T09:24:21.597503Z",
          "iopub.status.busy": "2024-05-04T09:24:21.597073Z",
          "iopub.status.idle": "2024-05-04T09:24:21.636219Z",
          "shell.execute_reply": "2024-05-04T09:24:21.634973Z",
          "shell.execute_reply.started": "2024-05-04T09:24:21.597471Z"
        },
        "id": "hFmxHlAfMN-l",
        "trusted": true
      },
      "outputs": [],
      "source": [
        "print(df.describe())"
      ]
    },
    {
      "cell_type": "code",
      "execution_count": null,
      "metadata": {
        "execution": {
          "iopub.execute_input": "2024-05-04T09:24:29.638553Z",
          "iopub.status.busy": "2024-05-04T09:24:29.63799Z",
          "iopub.status.idle": "2024-05-04T09:24:29.645094Z",
          "shell.execute_reply": "2024-05-04T09:24:29.643813Z",
          "shell.execute_reply.started": "2024-05-04T09:24:29.638423Z"
        },
        "id": "Nmc0mZ5VMN-m",
        "trusted": true
      },
      "outputs": [],
      "source": [
        "print(df.dtypes)"
      ]
    },
    {
      "cell_type": "code",
      "execution_count": null,
      "metadata": {
        "execution": {
          "iopub.execute_input": "2024-05-04T09:24:31.958113Z",
          "iopub.status.busy": "2024-05-04T09:24:31.957744Z",
          "iopub.status.idle": "2024-05-04T09:24:32.058345Z",
          "shell.execute_reply": "2024-05-04T09:24:32.057506Z",
          "shell.execute_reply.started": "2024-05-04T09:24:31.958086Z"
        },
        "id": "V5ALA6XaMN-n",
        "trusted": true
      },
      "outputs": [],
      "source": [
        "print(df.isnull().sum())"
      ]
    },
    {
      "cell_type": "code",
      "execution_count": null,
      "metadata": {
        "execution": {
          "iopub.execute_input": "2024-05-04T09:24:34.233282Z",
          "iopub.status.busy": "2024-05-04T09:24:34.23285Z",
          "iopub.status.idle": "2024-05-04T09:24:34.338042Z",
          "shell.execute_reply": "2024-05-04T09:24:34.336894Z",
          "shell.execute_reply.started": "2024-05-04T09:24:34.233249Z"
        },
        "id": "Mv86ztlGMN-o",
        "trusted": true
      },
      "outputs": [],
      "source": [
        "df.dropna(subset=['Influencer_real_name','Influencer_location','Majority_audience_gender','Influencer_location','Majority_audience_gender'], inplace=True)\n",
        "print(df.head())"
      ]
    },
    {
      "cell_type": "code",
      "execution_count": null,
      "metadata": {
        "execution": {
          "iopub.execute_input": "2024-05-04T09:24:34.77636Z",
          "iopub.status.busy": "2024-05-04T09:24:34.775975Z",
          "iopub.status.idle": "2024-05-04T09:24:34.941629Z",
          "shell.execute_reply": "2024-05-04T09:24:34.940369Z",
          "shell.execute_reply.started": "2024-05-04T09:24:34.776332Z"
        },
        "id": "4GWqZp3tMN-o",
        "trusted": true
      },
      "outputs": [],
      "source": [
        "most_common_country = df['Audience_country'].mode()[0]\n",
        "most_common_agegrp = df['Audience_age_range'].mode()[0]\n",
        "\n",
        "df['Audience_country'].fillna(most_common_country, inplace=True)\n",
        "df['Audience_age_range'].fillna(most_common_agegrp, inplace=True)\n",
        "df['Youtuber'].fillna('not provided', inplace=True)\n",
        "\n",
        "print(df.isnull().sum())"
      ]
    },
    {
      "cell_type": "code",
      "execution_count": null,
      "metadata": {
        "execution": {
          "iopub.execute_input": "2024-05-04T09:24:35.038848Z",
          "iopub.status.busy": "2024-05-04T09:24:35.038451Z",
          "iopub.status.idle": "2024-05-04T09:24:35.058644Z",
          "shell.execute_reply": "2024-05-04T09:24:35.05739Z",
          "shell.execute_reply.started": "2024-05-04T09:24:35.038818Z"
        },
        "id": "fIsYYRvPMN-p",
        "trusted": true
      },
      "outputs": [],
      "source": [
        "print(df['Engagement_rate'].describe())"
      ]
    },
    {
      "cell_type": "code",
      "execution_count": null,
      "metadata": {
        "execution": {
          "iopub.execute_input": "2024-05-04T09:24:35.297068Z",
          "iopub.status.busy": "2024-05-04T09:24:35.296702Z",
          "iopub.status.idle": "2024-05-04T09:24:35.304473Z",
          "shell.execute_reply": "2024-05-04T09:24:35.30306Z",
          "shell.execute_reply.started": "2024-05-04T09:24:35.29704Z"
        },
        "id": "YWpSZr7uMN-p",
        "trusted": true
      },
      "outputs": [],
      "source": [
        "print(df['Number_of_followers'])"
      ]
    },
    {
      "cell_type": "code",
      "execution_count": null,
      "metadata": {
        "execution": {
          "iopub.execute_input": "2024-05-04T09:24:35.534499Z",
          "iopub.status.busy": "2024-05-04T09:24:35.534088Z",
          "iopub.status.idle": "2024-05-04T09:24:35.541618Z",
          "shell.execute_reply": "2024-05-04T09:24:35.540359Z",
          "shell.execute_reply.started": "2024-05-04T09:24:35.534469Z"
        },
        "id": "UNP7LkhvMN-q",
        "trusted": true
      },
      "outputs": [],
      "source": [
        "column_name = 'Number_of_followers'\n",
        "\n",
        "column_min = df[column_name].min()\n",
        "column_max = df[column_name].max()\n",
        "\n",
        "print(\"Minimum value of column '{}': {}\".format(column_name, column_min))\n",
        "print(\"Maximum value of column '{}': {}\".format(column_name, column_max))"
      ]
    },
    {
      "cell_type": "code",
      "execution_count": null,
      "metadata": {
        "execution": {
          "iopub.execute_input": "2024-05-04T09:24:35.876083Z",
          "iopub.status.busy": "2024-05-04T09:24:35.875678Z",
          "iopub.status.idle": "2024-05-04T09:24:36.217786Z",
          "shell.execute_reply": "2024-05-04T09:24:36.216461Z",
          "shell.execute_reply.started": "2024-05-04T09:24:35.876052Z"
        },
        "id": "9TC7MuvtMN-r",
        "trusted": true
      },
      "outputs": [],
      "source": [
        "def categorize_rate(rate):\n",
        "    if rate < 1:\n",
        "        return 'Low'\n",
        "    elif 1 <= rate < 3.5:\n",
        "        return 'Average/Good'\n",
        "    elif 3.5 <= rate < 6:\n",
        "        return 'High'\n",
        "    else:\n",
        "        return 'Very High'\n",
        "\n",
        "df['engagement_category'] = df['Engagement_rate'].apply(categorize_rate)\n",
        "\n",
        "categories = ['Low', 'Average/Good', 'High', 'Very High']\n",
        "category_counts = df['engagement_category'].value_counts()[categories]\n",
        "\n",
        "colors = ['darkorchid', 'mediumorchid', 'orchid', 'plum']\n",
        "\n",
        "plt.bar(categories, category_counts, color=colors)\n",
        "plt.xlabel('Engagement Rate Category')\n",
        "plt.ylabel('Number of Entries')\n",
        "plt.title('Engagement Rate Distribution')\n",
        "plt.show()"
      ]
    },
    {
      "cell_type": "code",
      "execution_count": null,
      "metadata": {
        "execution": {
          "iopub.execute_input": "2024-05-04T09:24:36.450411Z",
          "iopub.status.busy": "2024-05-04T09:24:36.450021Z",
          "iopub.status.idle": "2024-05-04T09:24:36.470958Z",
          "shell.execute_reply": "2024-05-04T09:24:36.469566Z",
          "shell.execute_reply.started": "2024-05-04T09:24:36.450357Z"
        },
        "id": "sEJ98i-GMN-r",
        "trusted": true
      },
      "outputs": [],
      "source": [
        "gender_counts = df['Majority_audience_gender'].value_counts()\n",
        "\n",
        "print(gender_counts['Female'])\n",
        "print(gender_counts['Male'])"
      ]
    },
    {
      "cell_type": "code",
      "execution_count": null,
      "metadata": {
        "execution": {
          "iopub.execute_input": "2024-05-04T09:24:36.809838Z",
          "iopub.status.busy": "2024-05-04T09:24:36.809166Z",
          "iopub.status.idle": "2024-05-04T09:24:36.826365Z",
          "shell.execute_reply": "2024-05-04T09:24:36.825573Z",
          "shell.execute_reply.started": "2024-05-04T09:24:36.809804Z"
        },
        "id": "WHrtAhy9MN-s",
        "trusted": true
      },
      "outputs": [],
      "source": [
        "df.head(5)"
      ]
    },
    {
      "cell_type": "code",
      "execution_count": null,
      "metadata": {
        "execution": {
          "iopub.execute_input": "2024-05-04T09:24:37.243942Z",
          "iopub.status.busy": "2024-05-04T09:24:37.24354Z",
          "iopub.status.idle": "2024-05-04T09:24:37.252759Z",
          "shell.execute_reply": "2024-05-04T09:24:37.251613Z",
          "shell.execute_reply.started": "2024-05-04T09:24:37.243911Z"
        },
        "id": "cb9fvDSmMN-s",
        "trusted": true
      },
      "outputs": [],
      "source": [
        "df['Avg_likes_partnership_posts']"
      ]
    },
    {
      "cell_type": "code",
      "execution_count": null,
      "metadata": {
        "execution": {
          "iopub.execute_input": "2024-05-04T09:24:37.52405Z",
          "iopub.status.busy": "2024-05-04T09:24:37.523669Z",
          "iopub.status.idle": "2024-05-04T09:24:37.530366Z",
          "shell.execute_reply": "2024-05-04T09:24:37.529596Z",
          "shell.execute_reply.started": "2024-05-04T09:24:37.524019Z"
        },
        "id": "KlvmaGq-MN-s",
        "trusted": true
      },
      "outputs": [],
      "source": [
        "print(df['Youtuber'])"
      ]
    },
    {
      "cell_type": "code",
      "execution_count": null,
      "metadata": {
        "execution": {
          "iopub.execute_input": "2024-05-04T09:24:37.811991Z",
          "iopub.status.busy": "2024-05-04T09:24:37.81159Z",
          "iopub.status.idle": "2024-05-04T09:24:37.832825Z",
          "shell.execute_reply": "2024-05-04T09:24:37.831263Z",
          "shell.execute_reply.started": "2024-05-04T09:24:37.81196Z"
        },
        "id": "wRJ1sD2aMN-t",
        "trusted": true
      },
      "outputs": [],
      "source": [
        "yt_count = df['Youtuber'].value_counts()\n",
        "\n",
        "print(yt_count['Yes'])\n",
        "print(yt_count['No'])"
      ]
    },
    {
      "cell_type": "code",
      "execution_count": null,
      "metadata": {
        "execution": {
          "iopub.execute_input": "2024-05-04T09:24:38.244851Z",
          "iopub.status.busy": "2024-05-04T09:24:38.244484Z",
          "iopub.status.idle": "2024-05-04T09:24:38.572648Z",
          "shell.execute_reply": "2024-05-04T09:24:38.571605Z",
          "shell.execute_reply.started": "2024-05-04T09:24:38.244823Z"
        },
        "id": "eWEaqMj0MN-t",
        "trusted": true
      },
      "outputs": [],
      "source": [
        "import matplotlib.pyplot as plt\n",
        "import seaborn as sns\n",
        "\n",
        "avg_likes_youtuber = df[df['Youtuber'] == 'Yes']['Avg_likes_partnership_posts'].mean()\n",
        "avg_likes_non_youtuber = df[df['Youtuber'] == 'No']['Avg_likes_partnership_posts'].mean()\n",
        "\n",
        "plt.figure(figsize=(8, 6))\n",
        "sns.barplot(x=['YouTuber', 'Non-YouTuber'], y=[avg_likes_youtuber, avg_likes_non_youtuber], palette = \"flare\")\n",
        "\n",
        "for index, value in enumerate([avg_likes_youtuber, avg_likes_non_youtuber]):\n",
        "    plt.text(index, value + 50, f'{value:.2f}', ha='center', va='bottom', fontsize=10)\n",
        "\n",
        "plt.title('Average Likes for Partnership Posts by YouTuber Status')\n",
        "plt.xlabel('YouTuber Status')\n",
        "plt.ylabel('Average Likes for Partnership Posts')\n",
        "plt.show()"
      ]
    },
    {
      "cell_type": "code",
      "execution_count": null,
      "metadata": {
        "execution": {
          "iopub.execute_input": "2024-05-04T09:24:38.703702Z",
          "iopub.status.busy": "2024-05-04T09:24:38.70328Z",
          "iopub.status.idle": "2024-05-04T09:24:38.713548Z",
          "shell.execute_reply": "2024-05-04T09:24:38.712203Z",
          "shell.execute_reply.started": "2024-05-04T09:24:38.703674Z"
        },
        "id": "ip6aNEf2MN-t",
        "trusted": true
      },
      "outputs": [],
      "source": [
        "df['Audience_age_range']"
      ]
    },
    {
      "cell_type": "code",
      "execution_count": null,
      "metadata": {
        "execution": {
          "iopub.execute_input": "2024-05-04T09:24:39.224245Z",
          "iopub.status.busy": "2024-05-04T09:24:39.223864Z",
          "iopub.status.idle": "2024-05-04T09:24:39.233474Z",
          "shell.execute_reply": "2024-05-04T09:24:39.232023Z",
          "shell.execute_reply.started": "2024-05-04T09:24:39.224218Z"
        },
        "id": "7WJmrIe_MN-t",
        "trusted": true
      },
      "outputs": [],
      "source": [
        "df['Audience_country']"
      ]
    },
    {
      "cell_type": "code",
      "execution_count": null,
      "metadata": {
        "execution": {
          "iopub.execute_input": "2024-05-04T09:24:40.217898Z",
          "iopub.status.busy": "2024-05-04T09:24:40.217516Z",
          "iopub.status.idle": "2024-05-04T09:24:40.22753Z",
          "shell.execute_reply": "2024-05-04T09:24:40.226534Z",
          "shell.execute_reply.started": "2024-05-04T09:24:40.21787Z"
        },
        "id": "Xcw0XO2WMN-u",
        "trusted": true
      },
      "outputs": [],
      "source": [
        "df.shape"
      ]
    },
    {
      "cell_type": "code",
      "execution_count": null,
      "metadata": {
        "execution": {
          "iopub.execute_input": "2024-05-04T09:24:40.653797Z",
          "iopub.status.busy": "2024-05-04T09:24:40.653401Z",
          "iopub.status.idle": "2024-05-04T09:24:40.664469Z",
          "shell.execute_reply": "2024-05-04T09:24:40.663187Z",
          "shell.execute_reply.started": "2024-05-04T09:24:40.653766Z"
        },
        "id": "a9qPA_84MN-u",
        "trusted": true
      },
      "outputs": [],
      "source": [
        "df.dtypes"
      ]
    },
    {
      "cell_type": "code",
      "execution_count": null,
      "metadata": {
        "execution": {
          "iopub.execute_input": "2024-05-04T09:24:41.417147Z",
          "iopub.status.busy": "2024-05-04T09:24:41.416739Z",
          "iopub.status.idle": "2024-05-04T09:24:41.626122Z",
          "shell.execute_reply": "2024-05-04T09:24:41.625193Z",
          "shell.execute_reply.started": "2024-05-04T09:24:41.417119Z"
        },
        "id": "76LxmKGaMN-u",
        "trusted": true
      },
      "outputs": [],
      "source": [
        "import pandas as pd\n",
        "\n",
        "path_to_file = '/kaggle/input/company/BDA_Company_Data.csv'\n",
        "\n",
        "df1 = pd.read_csv(path_to_file)"
      ]
    },
    {
      "cell_type": "code",
      "execution_count": null,
      "metadata": {
        "execution": {
          "iopub.execute_input": "2024-05-04T09:24:42.151253Z",
          "iopub.status.busy": "2024-05-04T09:24:42.150826Z",
          "iopub.status.idle": "2024-05-04T09:24:42.163664Z",
          "shell.execute_reply": "2024-05-04T09:24:42.162184Z",
          "shell.execute_reply.started": "2024-05-04T09:24:42.151224Z"
        },
        "id": "H68j9B0SMN-u",
        "trusted": true
      },
      "outputs": [],
      "source": [
        "print(df1.head(5))"
      ]
    },
    {
      "cell_type": "code",
      "execution_count": null,
      "metadata": {
        "execution": {
          "iopub.execute_input": "2024-05-04T09:24:42.999274Z",
          "iopub.status.busy": "2024-05-04T09:24:42.998887Z",
          "iopub.status.idle": "2024-05-04T09:24:43.021219Z",
          "shell.execute_reply": "2024-05-04T09:24:43.020183Z",
          "shell.execute_reply.started": "2024-05-04T09:24:42.999244Z"
        },
        "id": "YzmJ0f4iMN-u",
        "trusted": true
      },
      "outputs": [],
      "source": [
        "print(df1.describe())"
      ]
    },
    {
      "cell_type": "code",
      "execution_count": null,
      "metadata": {
        "execution": {
          "iopub.execute_input": "2024-05-04T09:24:43.841073Z",
          "iopub.status.busy": "2024-05-04T09:24:43.840696Z",
          "iopub.status.idle": "2024-05-04T09:24:43.848017Z",
          "shell.execute_reply": "2024-05-04T09:24:43.846912Z",
          "shell.execute_reply.started": "2024-05-04T09:24:43.841045Z"
        },
        "id": "t876gr-XMN-v",
        "trusted": true
      },
      "outputs": [],
      "source": [
        "print(df1.dtypes)"
      ]
    },
    {
      "cell_type": "code",
      "execution_count": null,
      "metadata": {
        "execution": {
          "iopub.execute_input": "2024-05-04T09:24:44.933456Z",
          "iopub.status.busy": "2024-05-04T09:24:44.933033Z",
          "iopub.status.idle": "2024-05-04T09:24:44.974739Z",
          "shell.execute_reply": "2024-05-04T09:24:44.97372Z",
          "shell.execute_reply.started": "2024-05-04T09:24:44.933413Z"
        },
        "id": "6-4P8H_DMN-v",
        "trusted": true
      },
      "outputs": [],
      "source": [
        "print(df1.isnull().sum())"
      ]
    },
    {
      "cell_type": "code",
      "execution_count": null,
      "metadata": {
        "execution": {
          "iopub.execute_input": "2024-05-04T09:24:46.489843Z",
          "iopub.status.busy": "2024-05-04T09:24:46.489442Z",
          "iopub.status.idle": "2024-05-04T09:24:46.495834Z",
          "shell.execute_reply": "2024-05-04T09:24:46.494534Z",
          "shell.execute_reply.started": "2024-05-04T09:24:46.489812Z"
        },
        "id": "zU2S5kVIMN-v",
        "trusted": true
      },
      "outputs": [],
      "source": [
        "influencer_data = df"
      ]
    },
    {
      "cell_type": "code",
      "execution_count": null,
      "metadata": {
        "execution": {
          "iopub.execute_input": "2024-05-04T09:24:49.652334Z",
          "iopub.status.busy": "2024-05-04T09:24:49.651918Z",
          "iopub.status.idle": "2024-05-04T09:24:49.673734Z",
          "shell.execute_reply": "2024-05-04T09:24:49.672461Z",
          "shell.execute_reply.started": "2024-05-04T09:24:49.652303Z"
        },
        "id": "EjH7q_5CMN-v",
        "trusted": true
      },
      "outputs": [],
      "source": [
        "influencer_data"
      ]
    },
    {
      "cell_type": "code",
      "execution_count": null,
      "metadata": {
        "execution": {
          "iopub.execute_input": "2024-05-04T09:24:51.974299Z",
          "iopub.status.busy": "2024-05-04T09:24:51.973878Z",
          "iopub.status.idle": "2024-05-04T09:24:51.994053Z",
          "shell.execute_reply": "2024-05-04T09:24:51.993152Z",
          "shell.execute_reply.started": "2024-05-04T09:24:51.974267Z"
        },
        "id": "5exmcy7rMN-v",
        "trusted": true
      },
      "outputs": [],
      "source": [
        "import pandas as pd\n",
        "\n",
        "influencer_data['Influencer_insta_id'] = influencer_data['Influencer_insta_username'].copy()\n",
        "print(influencer_data.head())"
      ]
    },
    {
      "cell_type": "code",
      "execution_count": null,
      "metadata": {
        "execution": {
          "iopub.execute_input": "2024-05-04T09:24:57.14527Z",
          "iopub.status.busy": "2024-05-04T09:24:57.144877Z",
          "iopub.status.idle": "2024-05-04T09:24:57.153158Z",
          "shell.execute_reply": "2024-05-04T09:24:57.151651Z",
          "shell.execute_reply.started": "2024-05-04T09:24:57.145239Z"
        },
        "id": "zf0zLtrVMN-w",
        "trusted": true
      },
      "outputs": [],
      "source": [
        "company_data = df1"
      ]
    },
    {
      "cell_type": "code",
      "execution_count": null,
      "metadata": {
        "execution": {
          "iopub.execute_input": "2024-05-04T09:24:57.437862Z",
          "iopub.status.busy": "2024-05-04T09:24:57.437469Z",
          "iopub.status.idle": "2024-05-04T09:24:57.639934Z",
          "shell.execute_reply": "2024-05-04T09:24:57.639028Z",
          "shell.execute_reply.started": "2024-05-04T09:24:57.437832Z"
        },
        "id": "Ua8p_ZPKMN-w",
        "trusted": true
      },
      "outputs": [],
      "source": [
        "import pandas as pd\n",
        "\n",
        "categories = influencer_data['Content_category'].tolist() + company_data['Preferred_content_categories'].tolist()\n",
        "\n",
        "categories_series = pd.Series(categories)\n",
        "\n",
        "categories_encoded, categories_codes = categories_series.factorize()\n",
        "\n",
        "influencer_data['Content_category'] = categories_encoded[:len(influencer_data)]\n",
        "company_data['Preferred_content_categories'] = categories_encoded[len(influencer_data):]\n",
        "\n",
        "age_ranges = influencer_data['Audience_age_range'].tolist() + company_data['Target_age_range'].tolist()\n",
        "age_ranges_series = pd.Series(age_ranges)\n",
        "age_ranges_encoded, age_ranges_codes = age_ranges_series.factorize()\n",
        "influencer_data['Audience_age_range'] = age_ranges_encoded[:len(influencer_data)]\n",
        "company_data['Target_age_range'] = age_ranges_encoded[len(influencer_data):]\n",
        "\n",
        "genders = influencer_data['Majority_audience_gender'].tolist() + company_data['Target_gender'].tolist()\n",
        "genders_series = pd.Series(genders)\n",
        "genders_encoded, genders_codes = genders_series.factorize()\n",
        "influencer_data['Majority_audience_gender'] = genders_encoded[:len(influencer_data)]\n",
        "company_data['Target_gender'] = genders_encoded[len(influencer_data):]\n",
        "\n",
        "locations = influencer_data['Influencer_location'].tolist() + influencer_data['Audience_country'].tolist() + company_data['Target_location'].tolist()\n",
        "locations_series = pd.Series(locations)\n",
        "locations_encoded, locations_codes = locations_series.factorize()\n",
        "influencer_data['Influencer_location'] = locations_encoded[:len(influencer_data)]\n",
        "influencer_data['Audience_country'] = locations_encoded[len(influencer_data):2*len(influencer_data)]\n",
        "company_data['Target_location'] = locations_encoded[2*len(influencer_data):]"
      ]
    },
    {
      "cell_type": "code",
      "execution_count": null,
      "metadata": {
        "execution": {
          "iopub.execute_input": "2024-05-04T09:24:57.641955Z",
          "iopub.status.busy": "2024-05-04T09:24:57.641564Z",
          "iopub.status.idle": "2024-05-04T09:24:57.653145Z",
          "shell.execute_reply": "2024-05-04T09:24:57.651658Z",
          "shell.execute_reply.started": "2024-05-04T09:24:57.641926Z"
        },
        "id": "wdIUp52NMN-x",
        "trusted": true
      },
      "outputs": [],
      "source": [
        "print(company_data.head(5))"
      ]
    },
    {
      "cell_type": "code",
      "execution_count": null,
      "metadata": {
        "execution": {
          "iopub.execute_input": "2024-05-04T09:36:12.394952Z",
          "iopub.status.busy": "2024-05-04T09:36:12.393894Z",
          "iopub.status.idle": "2024-05-04T09:36:12.406084Z",
          "shell.execute_reply": "2024-05-04T09:36:12.404939Z",
          "shell.execute_reply.started": "2024-05-04T09:36:12.394912Z"
        },
        "id": "qB0Z7Y8qMN-x",
        "trusted": true
      },
      "outputs": [],
      "source": [
        "print(influencer_data.head())"
      ]
    },
    {
      "cell_type": "code",
      "execution_count": null,
      "metadata": {
        "execution": {
          "iopub.execute_input": "2024-05-04T09:24:57.835284Z",
          "iopub.status.busy": "2024-05-04T09:24:57.834859Z",
          "iopub.status.idle": "2024-05-04T09:24:58.008548Z",
          "shell.execute_reply": "2024-05-04T09:24:58.00735Z",
          "shell.execute_reply.started": "2024-05-04T09:24:57.83525Z"
        },
        "id": "2UI0YjaKMN-x",
        "trusted": true
      },
      "outputs": [],
      "source": [
        "influencer_data['Cost_per_post'] = influencer_data['Cost_per_post'].astype(str).str.replace('+', '')\n",
        "\n",
        "influencer_data['Cost_per_post'] = pd.to_numeric(influencer_data['Cost_per_post'], errors='coerce')\n",
        "\n",
        "print(influencer_data['Cost_per_post'])"
      ]
    },
    {
      "cell_type": "code",
      "execution_count": null,
      "metadata": {
        "execution": {
          "iopub.execute_input": "2024-05-04T09:24:58.013734Z",
          "iopub.status.busy": "2024-05-04T09:24:58.013305Z",
          "iopub.status.idle": "2024-05-04T09:24:58.122905Z",
          "shell.execute_reply": "2024-05-04T09:24:58.121799Z",
          "shell.execute_reply.started": "2024-05-04T09:24:58.013706Z"
        },
        "id": "QN3K-nuLMN-x",
        "trusted": true
      },
      "outputs": [],
      "source": [
        "company_features = ['Company_name','Preferred_platform', 'Preferred_content_categories', 'Target_location', 'Preferred_engagement_rate', 'Target_age_range', 'Target_gender', 'Marketing_budget']\n",
        "\n",
        "influencer_features = ['Influencer_insta_username', 'Influencer_real_name', 'Content_category', 'Audience_country', 'Engagement_rate', 'Audience_age_range', 'Majority_audience_gender', 'Cost_per_post', 'Youtuber']\n",
        "\n",
        "if company_data['Preferred_platform'].iloc[0] == 'YouTube':\n",
        "    influencers_filtered = influencer_data[influencer_data['Youtuber'] == 'Yes'].copy()\n",
        "else:\n",
        "    influencers_filtered = influencer_data.copy()\n",
        "\n",
        "company_selected_features = company_data[company_features].copy()\n",
        "influencer_selected_features = influencers_filtered[influencer_features].copy()"
      ]
    },
    {
      "cell_type": "code",
      "execution_count": null,
      "metadata": {
        "execution": {
          "iopub.execute_input": "2024-05-04T09:24:58.244602Z",
          "iopub.status.busy": "2024-05-04T09:24:58.244203Z",
          "iopub.status.idle": "2024-05-04T09:24:58.263929Z",
          "shell.execute_reply": "2024-05-04T09:24:58.261138Z",
          "shell.execute_reply.started": "2024-05-04T09:24:58.244572Z"
        },
        "id": "MaQX2wojMN-y",
        "trusted": true
      },
      "outputs": [],
      "source": [
        "company_selected_features"
      ]
    },
    {
      "cell_type": "code",
      "execution_count": null,
      "metadata": {
        "execution": {
          "iopub.execute_input": "2024-05-04T09:24:58.440223Z",
          "iopub.status.busy": "2024-05-04T09:24:58.439819Z",
          "iopub.status.idle": "2024-05-04T09:24:58.458659Z",
          "shell.execute_reply": "2024-05-04T09:24:58.457259Z",
          "shell.execute_reply.started": "2024-05-04T09:24:58.44019Z"
        },
        "id": "4Wo92dhiMN-y",
        "trusted": true
      },
      "outputs": [],
      "source": [
        "influencer_selected_features"
      ]
    },
    {
      "cell_type": "code",
      "execution_count": null,
      "metadata": {
        "execution": {
          "iopub.execute_input": "2024-05-04T09:24:58.853193Z",
          "iopub.status.busy": "2024-05-04T09:24:58.852248Z",
          "iopub.status.idle": "2024-05-04T09:24:59.338227Z",
          "shell.execute_reply": "2024-05-04T09:24:59.337058Z",
          "shell.execute_reply.started": "2024-05-04T09:24:58.853149Z"
        },
        "id": "mIE9Cu15MN-9",
        "trusted": true
      },
      "outputs": [],
      "source": [
        "from sklearn.preprocessing import LabelEncoder\n",
        "label_encoder = LabelEncoder()\n",
        "influencer_data['Influencer_insta_username'] = label_encoder.fit_transform(influencer_data['Influencer_insta_username'])"
      ]
    },
    {
      "cell_type": "code",
      "execution_count": null,
      "metadata": {
        "execution": {
          "iopub.execute_input": "2024-05-04T09:37:09.01918Z",
          "iopub.status.busy": "2024-05-04T09:37:09.01835Z",
          "iopub.status.idle": "2024-05-04T09:37:14.227993Z",
          "shell.execute_reply": "2024-05-04T09:37:14.226825Z",
          "shell.execute_reply.started": "2024-05-04T09:37:09.019133Z"
        },
        "id": "V4Bnht_oMN-9",
        "trusted": true
      },
      "outputs": [],
      "source": [
        "from surprise import Dataset, Reader\n",
        "from surprise import SVD\n",
        "from surprise.model_selection import train_test_split\n",
        "from surprise import accuracy\n",
        "import pandas as pd\n",
        "from sklearn.preprocessing import LabelEncoder\n",
        "\n",
        "features = ['Influencer_insta_username', 'Content_category', 'Audience_country', 'Engagement_rate', 'Audience_age_range', 'Majority_audience_gender', 'Cost_per_post','Influencer_insta_id']\n",
        "\n",
        "maindata = influencer_data[features]  \n",
        "\n",
        "reader = Reader(rating_scale=(0, 1))  \n",
        "dataset = Dataset.load_from_df(maindata[['Influencer_insta_username', 'Content_category', 'Cost_per_post']], reader)\n",
        "\n",
        "trainset = dataset.build_full_trainset()\n",
        "algo = SVD()\n",
        "algo.fit(trainset)\n",
        "\n",
        "def get_recommendations(category, budget, n=10):\n",
        "    predictions = {}\n",
        "    for uid in trainset.all_users():\n",
        "        iid = category\n",
        "        pred = algo.predict(uid, iid)\n",
        "        predictions[uid] = pred.est\n",
        "\n",
        "    sorted_predictions = sorted(predictions.items(), key=lambda x: x[1], reverse=True)\n",
        "\n",
        "    suitable_influencers = []\n",
        "    for uid, rating in sorted_predictions:\n",
        "        influencer_info = maindata[maindata['Influencer_insta_username'] == uid].iloc[0]  \n",
        "        if influencer_info['Cost_per_post'] <= budget:\n",
        "            suitable_influencers.append((influencer_info['Influencer_insta_username'], rating))\n",
        "            if len(suitable_influencers) == n:\n",
        "                break\n",
        "\n",
        "    return suitable_influencers\n",
        "\n",
        "category = 2\n",
        "budget = 80000  \n",
        "recommendations = get_recommendations(category, budget)\n",
        "print(\"Recommended influencers:\")\n",
        "for influencer, rating in recommendations:\n",
        "    print(f\"Influencer: {influencer}, Predicted Rating: {rating}\")"
      ]
    },
    {
      "cell_type": "code",
      "execution_count": null,
      "metadata": {
        "execution": {
          "iopub.execute_input": "2024-05-04T09:37:31.053405Z",
          "iopub.status.busy": "2024-05-04T09:37:31.052646Z",
          "iopub.status.idle": "2024-05-04T09:40:24.223471Z",
          "shell.execute_reply": "2024-05-04T09:40:24.22227Z",
          "shell.execute_reply.started": "2024-05-04T09:37:31.05333Z"
        },
        "id": "RptszubQMN--",
        "trusted": true
      },
      "outputs": [],
      "source": [
        "def get_recommendations_with_age_range_filter(category, budget, min_engagement_rate, target_gender, target_country, target_age_range, n=10):\n",
        "    predictions = {}\n",
        "    for uid in trainset.all_users():\n",
        "        iid = category\n",
        "        pred = algo.predict(uid, iid)\n",
        "        predictions[uid] = pred.est\n",
        "\n",
        "    sorted_predictions = sorted(predictions.items(), key=lambda x: x[1], reverse=True)\n",
        "\n",
        "    suitable_influencers = []\n",
        "    for uid, rating in sorted_predictions:\n",
        "        influencer_info = maindata[maindata['Influencer_insta_username'] == uid].iloc[0]  \n",
        "        if influencer_info['Cost_per_post'] <= budget:\n",
        "            suitable_influencers.append((influencer_info['Influencer_insta_username'], rating))\n",
        "\n",
        "    filtered_influencers = []\n",
        "    for influencer, rating in suitable_influencers:\n",
        "        influencer_info = maindata[maindata['Influencer_insta_username'] == influencer].iloc[0]  \n",
        "        if influencer_info['Engagement_rate'] >= min_engagement_rate \\\n",
        "                and influencer_info['Majority_audience_gender'] == target_gender \\\n",
        "                and influencer_info['Audience_country'] == target_country \\\n",
        "                and influencer_info['Audience_age_range'] == target_age_range:\n",
        "            filtered_influencers.append((influencer, rating))\n",
        "        if len(filtered_influencers) == n:\n",
        "            break\n",
        "\n",
        "    return filtered_influencers\n",
        "\n",
        "category = 2\n",
        "budget = 200000  \n",
        "min_engagement_rate = 0.05  \n",
        "target_gender = 1  \n",
        "target_country = 0  \n",
        "target_age_range = 3  \n",
        "recommendations = get_recommendations_with_age_range_filter(category, budget, min_engagement_rate, target_gender, target_country, target_age_range)\n",
        "print(\"Recommended influencers:\")\n",
        "for influencer, rating in recommendations:\n",
        "    print(f\"Influencer: {influencer}, Predicted Rating: {rating}\")"
      ]
    },
    {
      "cell_type": "code",
      "execution_count": null,
      "metadata": {
        "execution": {
          "iopub.execute_input": "2024-05-04T09:43:19.563253Z",
          "iopub.status.busy": "2024-05-04T09:43:19.562564Z",
          "iopub.status.idle": "2024-05-04T09:46:12.163035Z",
          "shell.execute_reply": "2024-05-04T09:46:12.161722Z",
          "shell.execute_reply.started": "2024-05-04T09:43:19.563209Z"
        },
        "id": "EbZRjr9ZMN--",
        "trusted": true
      },
      "outputs": [],
      "source": [
        "encoded_to_id_mapping = {encoded_username: influencer_id for encoded_username, influencer_id in zip(maindata['Influencer_insta_username'], maindata['Influencer_insta_id'])}\n",
        "\n",
        "category = 2\n",
        "budget = 200000\n",
        "min_engagement_rate =  0.05  \n",
        "target_gender = 1  \n",
        "target_country = 0  \n",
        "target_age_range = 3 \n",
        "recommendations = get_recommendations_with_age_range_filter(category, budget, min_engagement_rate, target_gender, target_country, target_age_range)\n",
        "print(\"Recommended influencers:\")\n",
        "for influencer, rating in recommendations:\n",
        "    original_influencer_id = encoded_to_id_mapping[influencer]\n",
        "    print(f\"Influencer: {original_influencer_id}, Predicted Rating: {rating}\")"
      ]
    }
  ],
  "metadata": {
    "colab": {
      "name": "notebook",
      "provenance": []
    },
    "kaggle": {
      "accelerator": "none",
      "dataSources": [
        {
          "datasetId": 4896273,
          "sourceId": 8251725,
          "sourceType": "datasetVersion"
        },
        {
          "datasetId": 4916897,
          "sourceId": 8279628,
          "sourceType": "datasetVersion"
        }
      ],
      "dockerImageVersionId": 30698,
      "isGpuEnabled": false,
      "isInternetEnabled": false,
      "language": "python",
      "sourceType": "notebook"
    },
    "kernelspec": {
      "display_name": "Python 3",
      "language": "python",
      "name": "python3"
    },
    "language_info": {
      "codemirror_mode": {
        "name": "ipython",
        "version": 3
      },
      "file_extension": ".py",
      "mimetype": "text/x-python",
      "name": "python",
      "nbconvert_exporter": "python",
      "pygments_lexer": "ipython3",
      "version": "3.10.13"
    }
  },
  "nbformat": 4,
  "nbformat_minor": 0
}

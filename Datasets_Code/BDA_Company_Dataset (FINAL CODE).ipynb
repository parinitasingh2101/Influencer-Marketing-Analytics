{
 "cells": [
  {
   "cell_type": "markdown",
   "id": "4d9fc586",
   "metadata": {},
   "source": [
    "FINAL COMPANY DATASETS"
   ]
  },
  {
   "cell_type": "code",
   "execution_count": 2,
   "id": "1b3ee35f",
   "metadata": {},
   "outputs": [
    {
     "name": "stdout",
     "output_type": "stream",
     "text": [
      "CSV file generated successfully.\n"
     ]
    }
   ],
   "source": [
    "import csv\n",
    "import random\n",
    "from faker import Faker\n",
    "\n",
    "fake = Faker()\n",
    "\n",
    "country_list = [\"Brazil\", \"China\", \"Ireland\", \"Sweden\", \"Belgium\", \"Sweden\", \"Austria\", \"Denmark\", \"Netherlands\", \n",
    "                \"United Arab Emirates\", \"Norway\", \"New Zealand\", \"Denmark\", \"Saudi Arabia\", \"Pakistan\", \n",
    "                \"India\", \"United States\", \"Indonesia\", \"Japan\", \"United Kingdom\", \"Mexico\", \"France\", \n",
    "                \"Germany\", \"Italy\", \"Argentina\", \"Spain\", \"Russia\", \"South Korea\", \"Philippines\",  \"Colombia\",\n",
    "                \"Thailand\", \"Canada\", \"Australia\", \"Egypt\", \"Iraq\", \"Malaysia\", \"Chile\", \"Poland\", \n",
    "                \"Vietnam\", \"Morocco\", \"Peru\", \"Algeria\", \"South Africa\", \"Portugal\", \"Romania\", \n",
    "                \"Greece\", \"Bangladesh\", \"Switzerland\", \"Hong Kong\", \"Singapore\", \"Costa Rica\"]\n",
    "\n",
    "location_list = [\"United States\", \"United Kingdom\", \"Canada\", \"Australia\", \"France\", \"Germany\", \"Japan\", \"India\", \n",
    "                \"Brazil\", \"China\", \"Spain\", \"Russia\", \"Indonesia\", \"South Korea\", \"Thailand\", \n",
    "                \"Philippines\", \"Mexico\", \"Colombia\", \"Argentina\", \"Ireland\", \"Sweden\", \"Belgium\", \n",
    "                \"Sweden\", \"Austria\", \"Denmark\", \"Netherlands\", \"United Arab Emirates\", \"Norway\", \"Italy\", \n",
    "                \"New Zealand\", \"Denmark\", \"Saudi Arabia\"]\n",
    "\n",
    "category_list = [\"Sports\", \"Music\", \"Dance\", \"Art\", \"Lifestyle\", \"Beauty\", \"Fashion\", \"Comedy\",\"Business & Careers\",\n",
    "                 \"Technology\",\"Food & Cooking\", \"Modeling\", \"Cinema/Theatre\", \"Fitness\", \"Literature & Journalism\", \n",
    "                 \"Spirituality\", \"Animals\", \"Family\", \"Education\", \"Management & Marketing\", \"Photography\", \"Media\",\n",
    "                 \"Games\", \"Inspirational quotes\", \"Retail\", \"Real Estate\", \"Travel\", \"Medical\"]\n",
    "\n",
    "gender_list = [\"Male\", \"Female\"]\n",
    "\n",
    "platform_list = [\"Instagram\", \"YouTube\"]\n",
    "\n",
    "columns = [\"Company_name\", \"Target_age_range\", \"Target_gender\", \"Target_location\", \"Product_category\", \n",
    "           \"Marketing_budget\", \"Preferred_content_categories\", \"Preferred_engagement_rate\", \"Preferred_platform\"]\n",
    "\n",
    "def generate_fake_row():\n",
    "    company_name = fake.company()\n",
    "    \n",
    "    min_age = random.randint(1, 19) * 5 \n",
    "    max_age = min_age + 5  \n",
    "    target_age_range = f\"{min_age}-{max_age}\" \n",
    "    \n",
    "           \n",
    "    target_gender = random.choice(gender_list)\n",
    "    target_audience_location = random.choice(country_list)\n",
    "    product_category = random.choice(category_list)\n",
    "    marketing_budget = random.randint(1000, 1000000)\n",
    "    preferred_content_categories = random.choice(category_list)\n",
    "    preferred_engagement_rate = round(random.uniform(0.5, 6.5), 1)\n",
    "    preferred_platform = random.choice(platform_list)\n",
    "\n",
    "    return [company_name, target_age_range, target_gender, target_audience_location, product_category, marketing_budget,\n",
    "            preferred_content_categories, preferred_engagement_rate, preferred_platform]\n",
    "\n",
    "data = [generate_fake_row() for _ in range(1000000)]\n",
    "\n",
    "with open(\"BDA_Company_Data1.csv\", \"w\", newline=\"\", encoding=\"utf-8\") as csvfile:\n",
    "    writer = csv.writer(csvfile)\n",
    "    writer.writerow(columns)\n",
    "    writer.writerows(data)\n",
    "\n",
    "print(\"CSV file generated successfully.\")"
   ]
  },
  {
   "cell_type": "code",
   "execution_count": null,
   "id": "85d7458c",
   "metadata": {},
   "outputs": [],
   "source": []
  }
 ],
 "metadata": {
  "kernelspec": {
   "display_name": "Python 3 (ipykernel)",
   "language": "python",
   "name": "python3"
  },
  "language_info": {
   "codemirror_mode": {
    "name": "ipython",
    "version": 3
   },
   "file_extension": ".py",
   "mimetype": "text/x-python",
   "name": "python",
   "nbconvert_exporter": "python",
   "pygments_lexer": "ipython3",
   "version": "3.9.13"
  }
 },
 "nbformat": 4,
 "nbformat_minor": 5
}
